{
 "cells": [
  {
   "cell_type": "code",
   "execution_count": 1,
   "id": "d0b99f34",
   "metadata": {},
   "outputs": [],
   "source": [
    "import cv2\n",
    "import numpy as np\n",
    "import pyautogui\n",
    "import time\n",
    "import streamlink"
   ]
  },
  {
   "cell_type": "code",
   "execution_count": 2,
   "id": "df10b2a5",
   "metadata": {},
   "outputs": [],
   "source": [
    "#  Вычисление окружности\n",
    "def is_inside(point, center, radius):\n",
    "    \"\"\" This function returns True if point is inside/on the boundary, False otherwise \"\"\"\n",
    "    eqn = (point[0] - center[0]) ** 2 + (point[1] - center[1])**2 - radius**2\n",
    "    return eqn <= 0"
   ]
  },
  {
   "cell_type": "code",
   "execution_count": 3,
   "id": "e1d7437b",
   "metadata": {},
   "outputs": [],
   "source": [
    "def calc_dist(pt1, pt2):\n",
    "    x1 = pt1[0]\n",
    "    y1 = pt1[1]\n",
    "    x2 = pt2[0]\n",
    "    y2 = pt2[1]\n",
    "    dst = ((x2 - x1)**2 + (y2-y1)**2)**0.5\n",
    "    return dst\n"
   ]
  },
  {
   "cell_type": "code",
   "execution_count": 16,
   "id": "ac164258",
   "metadata": {},
   "outputs": [],
   "source": [
    "img1 = cv2.imread(\"my_screenshot1.png\", cv2.CV_8UC1)\n",
    "circles = cv2.HoughCircles(img1, cv2.HOUGH_GRADIENT, 1, 100,\n",
    "                          param1=100, param2=70,\n",
    "                          minRadius=25, maxRadius=100)\n",
    "\n",
    "res = np.zeros(img1.shape)\n",
    "if circles is not None:\n",
    "    circles = np.uint16(np.around(circles))\n",
    "    for i in circles[0, :]:\n",
    "        center = (i[0], i[1])\n",
    "        # circle center\n",
    "        #cv2.circle(res, center, 1, (0, 100, 100), 3)\n",
    "        # circle outline\n",
    "        radius = i[2] # - 7\n",
    "        cv2.circle(res, center, radius, (200, 200, 255), 1)\n",
    "\n",
    "cv2.imshow(\"res\", res)\n",
    "cv2.waitKey(0)\n",
    "cv2.destroyAllWindows()"
   ]
  },
  {
   "cell_type": "markdown",
   "id": "cba1aa74",
   "metadata": {},
   "source": []
  },
  {
   "cell_type": "code",
   "execution_count": 5,
   "id": "48858fae",
   "metadata": {},
   "outputs": [],
   "source": [
    "img_path = \"my_screenshot.png\"\n",
    "temp_path = \"template.png\"\n",
    "img  = cv2.imread(img_path, cv2.CV_8UC1)\n",
    "temp = cv2.imread(temp_path, cv2.CV_8UC1)\n",
    "res = cv2.matchTemplate(img, temp, cv2.TM_CCOEFF_NORMED)\n",
    "treshold = 0.99\n",
    "loc = np.where(res >= treshold)\n",
    "y = loc[0][0]\n",
    "x = loc[1][0]\n",
    "w, h = np.shape(temp)\n",
    "roi_rect = img[y:y+h, x:x+w]\n",
    "\n",
    "circles = cv2.HoughCircles(roi_rect, cv2.HOUGH_GRADIENT, 1, h / 8,\n",
    "                          param1=70, param2=25,\n",
    "                          minRadius=25, maxRadius=35)\n",
    "\n",
    "res = np.zeros(roi_rect.shape)\n",
    "if circles is not None:\n",
    "    circles = np.uint16(np.around(circles))\n",
    "    for i in circles[0, :]:\n",
    "        center = (i[0], i[1])\n",
    "        # circle center\n",
    "        #cv2.circle(res, center, 1, (0, 100, 100), 3)\n",
    "        # circle outline\n",
    "        radius = i[2] - 7\n",
    "        cv2.circle(roi_rect, center, radius, (255, 0, 255), 1)"
   ]
  },
  {
   "cell_type": "code",
   "execution_count": 77,
   "id": "4368bc44",
   "metadata": {},
   "outputs": [],
   "source": [
    "filterd_image  = cv2.medianBlur(roi_rect,3)\n",
    "ret, thresh = cv2.threshold(filterd_image, 75, 255, cv2.THRESH_BINARY)\n",
    "contours, hierarchy = cv2.findContours(thresh, cv2.RETR_TREE, cv2.CHAIN_APPROX_SIMPLE)\n",
    "img_contours = np.zeros(filterd_image.shape)\n",
    "contours_sorted = sorted(contours, key=len, reverse=True)\n",
    "max_dist = 0\n",
    "max_pt = (0, 0)\n",
    "for pt in contours_sorted[1]:\n",
    "    if(calc_dist(pt[0], center) > max_dist):\n",
    "        max_pt = pt[0]\n",
    "        max_dist = calc_dist(pt[0], center)\n",
    "cv2.circle(img_contours, center, radius, (150, 150, 150), 1)\n",
    "cv2.circle(img_contours, center, 2, (200, 200, 200), -1);\n",
    "cv2.circle(img_contours, max_pt, 2, (200, 200, 200), -1);"
   ]
  },
  {
   "cell_type": "code",
   "execution_count": 74,
   "id": "6e412aab",
   "metadata": {},
   "outputs": [],
   "source": [
    "\n"
   ]
  },
  {
   "cell_type": "code",
   "execution_count": 76,
   "id": "e26a6e33",
   "metadata": {},
   "outputs": [
    {
     "data": {
      "text/plain": [
       "array([19, 33], dtype=int32)"
      ]
     },
     "execution_count": 76,
     "metadata": {},
     "output_type": "execute_result"
    }
   ],
   "source": [
    "max_pt"
   ]
  },
  {
   "cell_type": "code",
   "execution_count": 79,
   "id": "832296ba",
   "metadata": {},
   "outputs": [],
   "source": [
    "cv2.namedWindow(\"roi\", cv2.WINDOW_NORMAL)\n",
    "cv2.imshow(\"roi\", img_contours)\n",
    "cv2.waitKey()\n",
    "cv2.destroyAllWindows()"
   ]
  },
  {
   "cell_type": "code",
   "execution_count": 4,
   "id": "99708f1b",
   "metadata": {},
   "outputs": [],
   "source": [
    "for y in range(h):\n",
    "    for x in range(w):\n",
    "        if is_inside((x, y),center, radius):\n",
    "            continue\n",
    "        else:\n",
    "            roi_rect[y][x] = 0\n",
    "    "
   ]
  },
  {
   "cell_type": "code",
   "execution_count": null,
   "id": "213797fc",
   "metadata": {},
   "outputs": [],
   "source": []
  },
  {
   "cell_type": "code",
   "execution_count": 140,
   "id": "cb756a18",
   "metadata": {},
   "outputs": [
    {
     "name": "stdout",
     "output_type": "stream",
     "text": [
      "w= 83 h= 78 size= (78, 83)\n"
     ]
    }
   ],
   "source": [
    "print(\"w=\", w, \"h=\", h, \"size=\", np.shape(roi_rect))"
   ]
  },
  {
   "cell_type": "code",
   "execution_count": 26,
   "id": "077712f4",
   "metadata": {},
   "outputs": [],
   "source": [
    "filterd_image  = cv2.medianBlur(roi_rect,3)\n",
    "ret, thresh = cv2.threshold(filterd_image, 75, 255, cv2.THRESH_BINARY)\n",
    "\n",
    "\n"
   ]
  },
  {
   "cell_type": "code",
   "execution_count": 58,
   "id": "bb234b73",
   "metadata": {},
   "outputs": [],
   "source": [
    "contours, hierarchy = cv2.findContours(thresh, cv2.RETR_TREE, cv2.CHAIN_APPROX_SIMPLE)\n",
    "img_contours = np.zeros(filterd_image.shape)\n",
    "\n",
    "# draw the contours on the empty image\n"
   ]
  },
  {
   "cell_type": "code",
   "execution_count": 59,
   "id": "8a0036fd",
   "metadata": {},
   "outputs": [],
   "source": [
    "contours_sorted = sorted(contours, key=len, reverse=True)"
   ]
  },
  {
   "cell_type": "code",
   "execution_count": 60,
   "id": "5e11fff0",
   "metadata": {},
   "outputs": [],
   "source": [
    "cv2.drawContours(img_contours, contours_sorted[1], -1, (255,255,255), 1)\n",
    "\n",
    "cv2.imshow('contours', img_contours) # выводим итоговое изображение в окно\n",
    "\n",
    "cv2.waitKey()\n",
    "cv2.destroyAllWindows()"
   ]
  },
  {
   "cell_type": "code",
   "execution_count": 170,
   "id": "97388547",
   "metadata": {},
   "outputs": [],
   "source": [
    "cv2.imshow('thresh', thresh) # выводим итоговое изображение в окно\n",
    "\n",
    "cv2.waitKey()\n",
    "cv2.destroyAllWindows()"
   ]
  },
  {
   "cell_type": "code",
   "execution_count": 152,
   "id": "3565a865",
   "metadata": {},
   "outputs": [],
   "source": [
    "cv2.imshow(\"res\", roi_rect)\n",
    "cv2.waitKey(0)\n",
    "cv2.destroyAllWindows()"
   ]
  },
  {
   "cell_type": "code",
   "execution_count": null,
   "id": "56dc8505",
   "metadata": {},
   "outputs": [],
   "source": []
  },
  {
   "cell_type": "code",
   "execution_count": 4,
   "id": "157169fc",
   "metadata": {},
   "outputs": [],
   "source": [
    "cv2.imshow(\"res\", res)\n",
    "cv2.waitKey(0)\n",
    "cv2.destroyAllWindows()"
   ]
  },
  {
   "cell_type": "code",
   "execution_count": null,
   "id": "9c890718",
   "metadata": {},
   "outputs": [],
   "source": []
  },
  {
   "cell_type": "code",
   "execution_count": null,
   "id": "ba50fff3",
   "metadata": {},
   "outputs": [],
   "source": []
  }
 ],
 "metadata": {
  "kernelspec": {
   "display_name": "Python 3 (ipykernel)",
   "language": "python",
   "name": "python3"
  },
  "language_info": {
   "codemirror_mode": {
    "name": "ipython",
    "version": 3
   },
   "file_extension": ".py",
   "mimetype": "text/x-python",
   "name": "python",
   "nbconvert_exporter": "python",
   "pygments_lexer": "ipython3",
   "version": "3.10.12"
  }
 },
 "nbformat": 4,
 "nbformat_minor": 5
}
