{
  "nbformat": 4,
  "nbformat_minor": 0,
  "metadata": {
    "colab": {
      "provenance": []
    },
    "kernelspec": {
      "name": "python3",
      "display_name": "Python 3"
    },
    "language_info": {
      "name": "python"
    }
  },
  "cells": [
    {
      "cell_type": "markdown",
      "source": [
        "# Epileptic Seizure Recognition"
      ],
      "metadata": {
        "id": "GSGiammKuqnX"
      }
    },
    {
      "cell_type": "markdown",
      "source": [
        "Информация об атрибутах:\n",
        "\n",
        "Исходный набор данных из справочника состоит из 5 разных папок, каждая из которых содержит 100 файлов, каждый из которых представляет один субъект/человека. Каждый файл представляет собой запись активности мозга в течение 23,6 секунд. Соответствующий временной ряд разбивается на 4097 точек данных. Каждая точка данных представляет собой значение записи ЭЭГ в другой момент времени. Итак, у нас всего 500 человек, у каждого из которых 4097 точек данных за 23,5 секунды.\n",
        "\n",
        "Мы разделили и перетасовали каждые 4097 точек данных на 23 части, каждая часть содержит 178 точек данных за 1 секунду, и каждая точка данных представляет собой значение записи ЭЭГ в другой момент времени. Итак, теперь у нас есть 23 x 500 = 11500 единиц информации (строка), каждая информация содержит 178 точек данных за 1 секунду (столбец), последний столбец представляет собой метку y {1,2,3,4,5}.\n",
        "\n",
        "Переменная отклика — y в столбце 179, объясняющие переменные X1, X2, …, X178.\n",
        "\n",
        "y содержит категорию 178-мерного входного вектора. В частности, y в {1, 2, 3, 4, 5}:\n",
        "\n",
        "5 - глаза открыты, значит при записи ЭЭГ-сигнала головного мозга у больного были открыты глаза\n",
        "\n",
        "4 - глаза закрыты, значит, при записи сигнала ЭЭГ у пациента были закрыты глаза\n",
        "\n",
        "3 - Да, они определяют, где в мозгу находилась область опухоли, и регистрируют активность ЭЭГ в здоровой области мозга.\n",
        "\n",
        "2 - Регистрируют ЭЭГ из области локализации опухоли.\n",
        "\n",
        "1 - Запись судорожной активности\n",
        "\n",
        "Все субъекты, относящиеся к классам 2, 3, 4 и 5, не имели эпилептического припадка. Эпилептические припадки наблюдаются только у субъектов из класса 1. Нашей мотивацией для создания этой версии данных было упростить доступ к данным путем создания их версии .csv. Хотя существует 5 классов, большинство авторов провели бинарную классификацию, а именно класс 1 (эпилептический припадок) по сравнению с остальными.\n"
      ],
      "metadata": {
        "id": "H_JZ2RzHROo5"
      }
    },
    {
      "cell_type": "code",
      "source": [
        "!pip install catboost"
      ],
      "metadata": {
        "colab": {
          "base_uri": "https://localhost:8080/"
        },
        "id": "xGGWvBEXB76m",
        "outputId": "233b42d7-ca13-47a9-d994-a8c1074953fb"
      },
      "execution_count": 1,
      "outputs": [
        {
          "output_type": "stream",
          "name": "stdout",
          "text": [
            "Looking in indexes: https://pypi.org/simple, https://us-python.pkg.dev/colab-wheels/public/simple/\n",
            "Collecting catboost\n",
            "  Downloading catboost-1.1.1-cp38-none-manylinux1_x86_64.whl (76.6 MB)\n",
            "\u001b[2K     \u001b[90m━━━━━━━━━━━━━━━━━━━━━━━━━━━━━━━━━━━━━━━━\u001b[0m \u001b[32m76.6/76.6 MB\u001b[0m \u001b[31m11.8 MB/s\u001b[0m eta \u001b[36m0:00:00\u001b[0m\n",
            "\u001b[?25hRequirement already satisfied: plotly in /usr/local/lib/python3.8/dist-packages (from catboost) (5.5.0)\n",
            "Requirement already satisfied: numpy>=1.16.0 in /usr/local/lib/python3.8/dist-packages (from catboost) (1.21.6)\n",
            "Requirement already satisfied: matplotlib in /usr/local/lib/python3.8/dist-packages (from catboost) (3.2.2)\n",
            "Requirement already satisfied: pandas>=0.24.0 in /usr/local/lib/python3.8/dist-packages (from catboost) (1.3.5)\n",
            "Requirement already satisfied: scipy in /usr/local/lib/python3.8/dist-packages (from catboost) (1.7.3)\n",
            "Requirement already satisfied: six in /usr/local/lib/python3.8/dist-packages (from catboost) (1.15.0)\n",
            "Requirement already satisfied: graphviz in /usr/local/lib/python3.8/dist-packages (from catboost) (0.10.1)\n",
            "Requirement already satisfied: pytz>=2017.3 in /usr/local/lib/python3.8/dist-packages (from pandas>=0.24.0->catboost) (2022.7.1)\n",
            "Requirement already satisfied: python-dateutil>=2.7.3 in /usr/local/lib/python3.8/dist-packages (from pandas>=0.24.0->catboost) (2.8.2)\n",
            "Requirement already satisfied: pyparsing!=2.0.4,!=2.1.2,!=2.1.6,>=2.0.1 in /usr/local/lib/python3.8/dist-packages (from matplotlib->catboost) (3.0.9)\n",
            "Requirement already satisfied: cycler>=0.10 in /usr/local/lib/python3.8/dist-packages (from matplotlib->catboost) (0.11.0)\n",
            "Requirement already satisfied: kiwisolver>=1.0.1 in /usr/local/lib/python3.8/dist-packages (from matplotlib->catboost) (1.4.4)\n",
            "Requirement already satisfied: tenacity>=6.2.0 in /usr/local/lib/python3.8/dist-packages (from plotly->catboost) (8.2.1)\n",
            "Installing collected packages: catboost\n",
            "Successfully installed catboost-1.1.1\n"
          ]
        }
      ]
    },
    {
      "cell_type": "code",
      "source": [
        "!pip install tsfel"
      ],
      "metadata": {
        "colab": {
          "base_uri": "https://localhost:8080/"
        },
        "id": "TYEiAbj_Vsbe",
        "outputId": "a56c1bf6-24d0-430e-9f8b-1be8daf13bca"
      },
      "execution_count": 2,
      "outputs": [
        {
          "output_type": "stream",
          "name": "stdout",
          "text": [
            "Looking in indexes: https://pypi.org/simple, https://us-python.pkg.dev/colab-wheels/public/simple/\n",
            "Collecting tsfel\n",
            "  Downloading tsfel-0.1.4-py3-none-any.whl (46 kB)\n",
            "\u001b[2K     \u001b[90m━━━━━━━━━━━━━━━━━━━━━━━━━━━━━━━━━━━━━━━━\u001b[0m \u001b[32m46.8/46.8 KB\u001b[0m \u001b[31m2.2 MB/s\u001b[0m eta \u001b[36m0:00:00\u001b[0m\n",
            "\u001b[?25hRequirement already satisfied: scipy>=1.5.1 in /usr/local/lib/python3.8/dist-packages (from tsfel) (1.7.3)\n",
            "Requirement already satisfied: setuptools>=47.1.1 in /usr/local/lib/python3.8/dist-packages (from tsfel) (57.4.0)\n",
            "Requirement already satisfied: numpy>=1.18.5 in /usr/local/lib/python3.8/dist-packages (from tsfel) (1.21.6)\n",
            "Requirement already satisfied: Sphinx>=1.8.5 in /usr/local/lib/python3.8/dist-packages (from tsfel) (3.5.4)\n",
            "Requirement already satisfied: pandas>=0.25.3 in /usr/local/lib/python3.8/dist-packages (from tsfel) (1.3.5)\n",
            "Requirement already satisfied: gspread>=3.1.0 in /usr/local/lib/python3.8/dist-packages (from tsfel) (3.4.2)\n",
            "Requirement already satisfied: oauth2client>=4.1.3 in /usr/local/lib/python3.8/dist-packages (from tsfel) (4.1.3)\n",
            "Requirement already satisfied: ipython>=7.4.0 in /usr/local/lib/python3.8/dist-packages (from tsfel) (7.9.0)\n",
            "Requirement already satisfied: google-auth in /usr/local/lib/python3.8/dist-packages (from gspread>=3.1.0->tsfel) (2.16.0)\n",
            "Requirement already satisfied: requests>=2.2.1 in /usr/local/lib/python3.8/dist-packages (from gspread>=3.1.0->tsfel) (2.25.1)\n",
            "Requirement already satisfied: pexpect in /usr/local/lib/python3.8/dist-packages (from ipython>=7.4.0->tsfel) (4.8.0)\n",
            "Requirement already satisfied: decorator in /usr/local/lib/python3.8/dist-packages (from ipython>=7.4.0->tsfel) (4.4.2)\n",
            "Requirement already satisfied: prompt-toolkit<2.1.0,>=2.0.0 in /usr/local/lib/python3.8/dist-packages (from ipython>=7.4.0->tsfel) (2.0.10)\n",
            "Requirement already satisfied: backcall in /usr/local/lib/python3.8/dist-packages (from ipython>=7.4.0->tsfel) (0.2.0)\n",
            "Requirement already satisfied: pygments in /usr/local/lib/python3.8/dist-packages (from ipython>=7.4.0->tsfel) (2.6.1)\n",
            "Collecting jedi>=0.10\n",
            "  Downloading jedi-0.18.2-py2.py3-none-any.whl (1.6 MB)\n",
            "\u001b[2K     \u001b[90m━━━━━━━━━━━━━━━━━━━━━━━━━━━━━━━━━━━━━━━━\u001b[0m \u001b[32m1.6/1.6 MB\u001b[0m \u001b[31m22.1 MB/s\u001b[0m eta \u001b[36m0:00:00\u001b[0m\n",
            "\u001b[?25hRequirement already satisfied: traitlets>=4.2 in /usr/local/lib/python3.8/dist-packages (from ipython>=7.4.0->tsfel) (5.7.1)\n",
            "Requirement already satisfied: pickleshare in /usr/local/lib/python3.8/dist-packages (from ipython>=7.4.0->tsfel) (0.7.5)\n",
            "Requirement already satisfied: rsa>=3.1.4 in /usr/local/lib/python3.8/dist-packages (from oauth2client>=4.1.3->tsfel) (4.9)\n",
            "Requirement already satisfied: pyasn1-modules>=0.0.5 in /usr/local/lib/python3.8/dist-packages (from oauth2client>=4.1.3->tsfel) (0.2.8)\n",
            "Requirement already satisfied: six>=1.6.1 in /usr/local/lib/python3.8/dist-packages (from oauth2client>=4.1.3->tsfel) (1.15.0)\n",
            "Requirement already satisfied: httplib2>=0.9.1 in /usr/local/lib/python3.8/dist-packages (from oauth2client>=4.1.3->tsfel) (0.17.4)\n",
            "Requirement already satisfied: pyasn1>=0.1.7 in /usr/local/lib/python3.8/dist-packages (from oauth2client>=4.1.3->tsfel) (0.4.8)\n",
            "Requirement already satisfied: python-dateutil>=2.7.3 in /usr/local/lib/python3.8/dist-packages (from pandas>=0.25.3->tsfel) (2.8.2)\n",
            "Requirement already satisfied: pytz>=2017.3 in /usr/local/lib/python3.8/dist-packages (from pandas>=0.25.3->tsfel) (2022.7.1)\n",
            "Requirement already satisfied: imagesize in /usr/local/lib/python3.8/dist-packages (from Sphinx>=1.8.5->tsfel) (1.4.1)\n",
            "Requirement already satisfied: sphinxcontrib-applehelp in /usr/local/lib/python3.8/dist-packages (from Sphinx>=1.8.5->tsfel) (1.0.4)\n",
            "Requirement already satisfied: sphinxcontrib-devhelp in /usr/local/lib/python3.8/dist-packages (from Sphinx>=1.8.5->tsfel) (1.0.2)\n",
            "Requirement already satisfied: snowballstemmer>=1.1 in /usr/local/lib/python3.8/dist-packages (from Sphinx>=1.8.5->tsfel) (2.2.0)\n",
            "Requirement already satisfied: sphinxcontrib-serializinghtml in /usr/local/lib/python3.8/dist-packages (from Sphinx>=1.8.5->tsfel) (1.1.5)\n",
            "Requirement already satisfied: babel>=1.3 in /usr/local/lib/python3.8/dist-packages (from Sphinx>=1.8.5->tsfel) (2.11.0)\n",
            "Requirement already satisfied: docutils<0.17,>=0.12 in /usr/local/lib/python3.8/dist-packages (from Sphinx>=1.8.5->tsfel) (0.16)\n",
            "Requirement already satisfied: alabaster<0.8,>=0.7 in /usr/local/lib/python3.8/dist-packages (from Sphinx>=1.8.5->tsfel) (0.7.13)\n",
            "Requirement already satisfied: packaging in /usr/local/lib/python3.8/dist-packages (from Sphinx>=1.8.5->tsfel) (23.0)\n",
            "Requirement already satisfied: sphinxcontrib-htmlhelp in /usr/local/lib/python3.8/dist-packages (from Sphinx>=1.8.5->tsfel) (2.0.1)\n",
            "Requirement already satisfied: sphinxcontrib-qthelp in /usr/local/lib/python3.8/dist-packages (from Sphinx>=1.8.5->tsfel) (1.0.3)\n",
            "Requirement already satisfied: sphinxcontrib-jsmath in /usr/local/lib/python3.8/dist-packages (from Sphinx>=1.8.5->tsfel) (1.0.1)\n",
            "Requirement already satisfied: Jinja2>=2.3 in /usr/local/lib/python3.8/dist-packages (from Sphinx>=1.8.5->tsfel) (2.11.3)\n",
            "Requirement already satisfied: parso<0.9.0,>=0.8.0 in /usr/local/lib/python3.8/dist-packages (from jedi>=0.10->ipython>=7.4.0->tsfel) (0.8.3)\n",
            "Requirement already satisfied: MarkupSafe>=0.23 in /usr/local/lib/python3.8/dist-packages (from Jinja2>=2.3->Sphinx>=1.8.5->tsfel) (2.0.1)\n",
            "Requirement already satisfied: wcwidth in /usr/local/lib/python3.8/dist-packages (from prompt-toolkit<2.1.0,>=2.0.0->ipython>=7.4.0->tsfel) (0.2.6)\n",
            "Requirement already satisfied: idna<3,>=2.5 in /usr/local/lib/python3.8/dist-packages (from requests>=2.2.1->gspread>=3.1.0->tsfel) (2.10)\n",
            "Requirement already satisfied: urllib3<1.27,>=1.21.1 in /usr/local/lib/python3.8/dist-packages (from requests>=2.2.1->gspread>=3.1.0->tsfel) (1.24.3)\n",
            "Requirement already satisfied: certifi>=2017.4.17 in /usr/local/lib/python3.8/dist-packages (from requests>=2.2.1->gspread>=3.1.0->tsfel) (2022.12.7)\n",
            "Requirement already satisfied: chardet<5,>=3.0.2 in /usr/local/lib/python3.8/dist-packages (from requests>=2.2.1->gspread>=3.1.0->tsfel) (4.0.0)\n",
            "Requirement already satisfied: cachetools<6.0,>=2.0.0 in /usr/local/lib/python3.8/dist-packages (from google-auth->gspread>=3.1.0->tsfel) (5.3.0)\n",
            "Requirement already satisfied: ptyprocess>=0.5 in /usr/local/lib/python3.8/dist-packages (from pexpect->ipython>=7.4.0->tsfel) (0.7.0)\n",
            "Installing collected packages: jedi, tsfel\n",
            "Successfully installed jedi-0.18.2 tsfel-0.1.4\n"
          ]
        }
      ]
    },
    {
      "cell_type": "code",
      "source": [
        "import pandas as pd\n",
        "import numpy as np\n",
        "from sklearn.model_selection import train_test_split\n",
        "import seaborn as sns\n",
        "from sklearn.metrics import classification_report,confusion_matrix\n",
        "from catboost import CatBoostClassifier\n",
        "from statsmodels.tsa.seasonal import seasonal_decompose\n",
        "from matplotlib import pyplot as plt\n",
        "from sklearn.ensemble import RandomForestClassifier\n",
        "from scipy.fftpack import fft\n",
        "from scipy import signal\n",
        "from tqdm import tqdm\n",
        "import pywt\n",
        "import scipy.stats\n",
        "from collections import defaultdict, Counter\n",
        "import tsfel\n",
        "from scipy import interpolate\n",
        "from sklearn import preprocessing\n",
        "from sklearn.feature_selection import VarianceThreshold"
      ],
      "metadata": {
        "id": "Fh4deRT-RNsM"
      },
      "execution_count": 3,
      "outputs": []
    },
    {
      "cell_type": "markdown",
      "source": [
        "## Загрузка данных"
      ],
      "metadata": {
        "id": "9cjzj0P2QDPN"
      }
    },
    {
      "cell_type": "code",
      "source": [
        "url= 'https://drive.google.com/uc?id=' + \"https://drive.google.com/file/d/1w1UJUAy1pekERaIUaluksqRlUhefG-Cd/view?usp=sharing\".split('/')[-2]\n",
        "df = pd.read_csv(url)"
      ],
      "metadata": {
        "id": "8UvHESAurpQI"
      },
      "execution_count": 4,
      "outputs": []
    },
    {
      "cell_type": "code",
      "source": [
        "df.head()"
      ],
      "metadata": {
        "colab": {
          "base_uri": "https://localhost:8080/",
          "height": 236
        },
        "id": "gkd4bso2rzGh",
        "outputId": "4e8f9d5e-a43c-44e1-825f-40eed0caddaa"
      },
      "execution_count": 5,
      "outputs": [
        {
          "output_type": "execute_result",
          "data": {
            "text/plain": [
              "      Unnamed   X1   X2   X3   X4   X5   X6   X7   X8   X9  ...  X170  X171  \\\n",
              "0  X21.V1.791  135  190  229  223  192  125   55   -9  -33  ...   -17   -15   \n",
              "1  X15.V1.924  386  382  356  331  320  315  307  272  244  ...   164   150   \n",
              "2     X8.V1.1  -32  -39  -47  -37  -32  -36  -57  -73  -85  ...    57    64   \n",
              "3   X16.V1.60 -105 -101  -96  -92  -89  -95 -102 -100  -87  ...   -82   -81   \n",
              "4   X20.V1.54   -9  -65  -98 -102  -78  -48  -16    0  -21  ...     4     2   \n",
              "\n",
              "   X172  X173  X174  X175  X176  X177  X178  y  \n",
              "0   -31   -77  -103  -127  -116   -83   -51  4  \n",
              "1   146   152   157   156   154   143   129  1  \n",
              "2    48    19   -12   -30   -35   -35   -36  5  \n",
              "3   -80   -77   -85   -77   -72   -69   -65  5  \n",
              "4   -12   -32   -41   -65   -83   -89   -73  5  \n",
              "\n",
              "[5 rows x 180 columns]"
            ],
            "text/html": [
              "\n",
              "  <div id=\"df-162bd7ef-c73a-447a-9cb4-4ca8c2571e1d\">\n",
              "    <div class=\"colab-df-container\">\n",
              "      <div>\n",
              "<style scoped>\n",
              "    .dataframe tbody tr th:only-of-type {\n",
              "        vertical-align: middle;\n",
              "    }\n",
              "\n",
              "    .dataframe tbody tr th {\n",
              "        vertical-align: top;\n",
              "    }\n",
              "\n",
              "    .dataframe thead th {\n",
              "        text-align: right;\n",
              "    }\n",
              "</style>\n",
              "<table border=\"1\" class=\"dataframe\">\n",
              "  <thead>\n",
              "    <tr style=\"text-align: right;\">\n",
              "      <th></th>\n",
              "      <th>Unnamed</th>\n",
              "      <th>X1</th>\n",
              "      <th>X2</th>\n",
              "      <th>X3</th>\n",
              "      <th>X4</th>\n",
              "      <th>X5</th>\n",
              "      <th>X6</th>\n",
              "      <th>X7</th>\n",
              "      <th>X8</th>\n",
              "      <th>X9</th>\n",
              "      <th>...</th>\n",
              "      <th>X170</th>\n",
              "      <th>X171</th>\n",
              "      <th>X172</th>\n",
              "      <th>X173</th>\n",
              "      <th>X174</th>\n",
              "      <th>X175</th>\n",
              "      <th>X176</th>\n",
              "      <th>X177</th>\n",
              "      <th>X178</th>\n",
              "      <th>y</th>\n",
              "    </tr>\n",
              "  </thead>\n",
              "  <tbody>\n",
              "    <tr>\n",
              "      <th>0</th>\n",
              "      <td>X21.V1.791</td>\n",
              "      <td>135</td>\n",
              "      <td>190</td>\n",
              "      <td>229</td>\n",
              "      <td>223</td>\n",
              "      <td>192</td>\n",
              "      <td>125</td>\n",
              "      <td>55</td>\n",
              "      <td>-9</td>\n",
              "      <td>-33</td>\n",
              "      <td>...</td>\n",
              "      <td>-17</td>\n",
              "      <td>-15</td>\n",
              "      <td>-31</td>\n",
              "      <td>-77</td>\n",
              "      <td>-103</td>\n",
              "      <td>-127</td>\n",
              "      <td>-116</td>\n",
              "      <td>-83</td>\n",
              "      <td>-51</td>\n",
              "      <td>4</td>\n",
              "    </tr>\n",
              "    <tr>\n",
              "      <th>1</th>\n",
              "      <td>X15.V1.924</td>\n",
              "      <td>386</td>\n",
              "      <td>382</td>\n",
              "      <td>356</td>\n",
              "      <td>331</td>\n",
              "      <td>320</td>\n",
              "      <td>315</td>\n",
              "      <td>307</td>\n",
              "      <td>272</td>\n",
              "      <td>244</td>\n",
              "      <td>...</td>\n",
              "      <td>164</td>\n",
              "      <td>150</td>\n",
              "      <td>146</td>\n",
              "      <td>152</td>\n",
              "      <td>157</td>\n",
              "      <td>156</td>\n",
              "      <td>154</td>\n",
              "      <td>143</td>\n",
              "      <td>129</td>\n",
              "      <td>1</td>\n",
              "    </tr>\n",
              "    <tr>\n",
              "      <th>2</th>\n",
              "      <td>X8.V1.1</td>\n",
              "      <td>-32</td>\n",
              "      <td>-39</td>\n",
              "      <td>-47</td>\n",
              "      <td>-37</td>\n",
              "      <td>-32</td>\n",
              "      <td>-36</td>\n",
              "      <td>-57</td>\n",
              "      <td>-73</td>\n",
              "      <td>-85</td>\n",
              "      <td>...</td>\n",
              "      <td>57</td>\n",
              "      <td>64</td>\n",
              "      <td>48</td>\n",
              "      <td>19</td>\n",
              "      <td>-12</td>\n",
              "      <td>-30</td>\n",
              "      <td>-35</td>\n",
              "      <td>-35</td>\n",
              "      <td>-36</td>\n",
              "      <td>5</td>\n",
              "    </tr>\n",
              "    <tr>\n",
              "      <th>3</th>\n",
              "      <td>X16.V1.60</td>\n",
              "      <td>-105</td>\n",
              "      <td>-101</td>\n",
              "      <td>-96</td>\n",
              "      <td>-92</td>\n",
              "      <td>-89</td>\n",
              "      <td>-95</td>\n",
              "      <td>-102</td>\n",
              "      <td>-100</td>\n",
              "      <td>-87</td>\n",
              "      <td>...</td>\n",
              "      <td>-82</td>\n",
              "      <td>-81</td>\n",
              "      <td>-80</td>\n",
              "      <td>-77</td>\n",
              "      <td>-85</td>\n",
              "      <td>-77</td>\n",
              "      <td>-72</td>\n",
              "      <td>-69</td>\n",
              "      <td>-65</td>\n",
              "      <td>5</td>\n",
              "    </tr>\n",
              "    <tr>\n",
              "      <th>4</th>\n",
              "      <td>X20.V1.54</td>\n",
              "      <td>-9</td>\n",
              "      <td>-65</td>\n",
              "      <td>-98</td>\n",
              "      <td>-102</td>\n",
              "      <td>-78</td>\n",
              "      <td>-48</td>\n",
              "      <td>-16</td>\n",
              "      <td>0</td>\n",
              "      <td>-21</td>\n",
              "      <td>...</td>\n",
              "      <td>4</td>\n",
              "      <td>2</td>\n",
              "      <td>-12</td>\n",
              "      <td>-32</td>\n",
              "      <td>-41</td>\n",
              "      <td>-65</td>\n",
              "      <td>-83</td>\n",
              "      <td>-89</td>\n",
              "      <td>-73</td>\n",
              "      <td>5</td>\n",
              "    </tr>\n",
              "  </tbody>\n",
              "</table>\n",
              "<p>5 rows × 180 columns</p>\n",
              "</div>\n",
              "      <button class=\"colab-df-convert\" onclick=\"convertToInteractive('df-162bd7ef-c73a-447a-9cb4-4ca8c2571e1d')\"\n",
              "              title=\"Convert this dataframe to an interactive table.\"\n",
              "              style=\"display:none;\">\n",
              "        \n",
              "  <svg xmlns=\"http://www.w3.org/2000/svg\" height=\"24px\"viewBox=\"0 0 24 24\"\n",
              "       width=\"24px\">\n",
              "    <path d=\"M0 0h24v24H0V0z\" fill=\"none\"/>\n",
              "    <path d=\"M18.56 5.44l.94 2.06.94-2.06 2.06-.94-2.06-.94-.94-2.06-.94 2.06-2.06.94zm-11 1L8.5 8.5l.94-2.06 2.06-.94-2.06-.94L8.5 2.5l-.94 2.06-2.06.94zm10 10l.94 2.06.94-2.06 2.06-.94-2.06-.94-.94-2.06-.94 2.06-2.06.94z\"/><path d=\"M17.41 7.96l-1.37-1.37c-.4-.4-.92-.59-1.43-.59-.52 0-1.04.2-1.43.59L10.3 9.45l-7.72 7.72c-.78.78-.78 2.05 0 2.83L4 21.41c.39.39.9.59 1.41.59.51 0 1.02-.2 1.41-.59l7.78-7.78 2.81-2.81c.8-.78.8-2.07 0-2.86zM5.41 20L4 18.59l7.72-7.72 1.47 1.35L5.41 20z\"/>\n",
              "  </svg>\n",
              "      </button>\n",
              "      \n",
              "  <style>\n",
              "    .colab-df-container {\n",
              "      display:flex;\n",
              "      flex-wrap:wrap;\n",
              "      gap: 12px;\n",
              "    }\n",
              "\n",
              "    .colab-df-convert {\n",
              "      background-color: #E8F0FE;\n",
              "      border: none;\n",
              "      border-radius: 50%;\n",
              "      cursor: pointer;\n",
              "      display: none;\n",
              "      fill: #1967D2;\n",
              "      height: 32px;\n",
              "      padding: 0 0 0 0;\n",
              "      width: 32px;\n",
              "    }\n",
              "\n",
              "    .colab-df-convert:hover {\n",
              "      background-color: #E2EBFA;\n",
              "      box-shadow: 0px 1px 2px rgba(60, 64, 67, 0.3), 0px 1px 3px 1px rgba(60, 64, 67, 0.15);\n",
              "      fill: #174EA6;\n",
              "    }\n",
              "\n",
              "    [theme=dark] .colab-df-convert {\n",
              "      background-color: #3B4455;\n",
              "      fill: #D2E3FC;\n",
              "    }\n",
              "\n",
              "    [theme=dark] .colab-df-convert:hover {\n",
              "      background-color: #434B5C;\n",
              "      box-shadow: 0px 1px 3px 1px rgba(0, 0, 0, 0.15);\n",
              "      filter: drop-shadow(0px 1px 2px rgba(0, 0, 0, 0.3));\n",
              "      fill: #FFFFFF;\n",
              "    }\n",
              "  </style>\n",
              "\n",
              "      <script>\n",
              "        const buttonEl =\n",
              "          document.querySelector('#df-162bd7ef-c73a-447a-9cb4-4ca8c2571e1d button.colab-df-convert');\n",
              "        buttonEl.style.display =\n",
              "          google.colab.kernel.accessAllowed ? 'block' : 'none';\n",
              "\n",
              "        async function convertToInteractive(key) {\n",
              "          const element = document.querySelector('#df-162bd7ef-c73a-447a-9cb4-4ca8c2571e1d');\n",
              "          const dataTable =\n",
              "            await google.colab.kernel.invokeFunction('convertToInteractive',\n",
              "                                                     [key], {});\n",
              "          if (!dataTable) return;\n",
              "\n",
              "          const docLinkHtml = 'Like what you see? Visit the ' +\n",
              "            '<a target=\"_blank\" href=https://colab.research.google.com/notebooks/data_table.ipynb>data table notebook</a>'\n",
              "            + ' to learn more about interactive tables.';\n",
              "          element.innerHTML = '';\n",
              "          dataTable['output_type'] = 'display_data';\n",
              "          await google.colab.output.renderOutput(dataTable, element);\n",
              "          const docLink = document.createElement('div');\n",
              "          docLink.innerHTML = docLinkHtml;\n",
              "          element.appendChild(docLink);\n",
              "        }\n",
              "      </script>\n",
              "    </div>\n",
              "  </div>\n",
              "  "
            ]
          },
          "metadata": {},
          "execution_count": 5
        }
      ]
    },
    {
      "cell_type": "code",
      "source": [
        "df.shape"
      ],
      "metadata": {
        "colab": {
          "base_uri": "https://localhost:8080/"
        },
        "id": "PZ5_ab0Bm2pb",
        "outputId": "22c6a73e-e16d-4201-90af-309f319c880c"
      },
      "execution_count": 6,
      "outputs": [
        {
          "output_type": "execute_result",
          "data": {
            "text/plain": [
              "(11500, 180)"
            ]
          },
          "metadata": {},
          "execution_count": 6
        }
      ]
    },
    {
      "cell_type": "code",
      "source": [
        "df.isna().sum().sum()"
      ],
      "metadata": {
        "colab": {
          "base_uri": "https://localhost:8080/"
        },
        "id": "nWZQxkjQm4qT",
        "outputId": "df50fc79-fe40-4e93-bf1c-4bc159e120aa"
      },
      "execution_count": 7,
      "outputs": [
        {
          "output_type": "execute_result",
          "data": {
            "text/plain": [
              "0"
            ]
          },
          "metadata": {},
          "execution_count": 7
        }
      ]
    },
    {
      "cell_type": "markdown",
      "source": [
        "Пропусков нет, но присутсвует неиспользуемая колнока unnamed, которую следует удалить. Все субъекты в целевой переменной, не относящиеся к припадку, преобразую в 0 и посмотрю на распределение целевой переменной."
      ],
      "metadata": {
        "id": "bW87m8dQQRil"
      }
    },
    {
      "cell_type": "code",
      "source": [
        "df = df.drop('Unnamed', axis=1)\n",
        "df.loc[df['y'] != 1, 'y'] = 0\n",
        "X = df.drop('y', axis=1)\n",
        "y = df['y']\n",
        "\n",
        "ax = sns.countplot(y, label=\"Count\");"
      ],
      "metadata": {
        "id": "IrekYyvjMpH9",
        "colab": {
          "base_uri": "https://localhost:8080/",
          "height": 334
        },
        "outputId": "3c793f99-c2cb-4815-f9e8-0ee8b957e817"
      },
      "execution_count": 8,
      "outputs": [
        {
          "output_type": "stream",
          "name": "stderr",
          "text": [
            "/usr/local/lib/python3.8/dist-packages/seaborn/_decorators.py:36: FutureWarning: Pass the following variable as a keyword arg: x. From version 0.12, the only valid positional argument will be `data`, and passing other arguments without an explicit keyword will result in an error or misinterpretation.\n",
            "  warnings.warn(\n"
          ]
        },
        {
          "output_type": "display_data",
          "data": {
            "text/plain": [
              "<Figure size 432x288 with 1 Axes>"
            ],
            "image/png": "[encoded data removed]"
          },
          "metadata": {
            "needs_background": "light"
          }
        }
      ]
    },
    {
      "cell_type": "code",
      "source": [
        "y.value_counts()"
      ],
      "metadata": {
        "colab": {
          "base_uri": "https://localhost:8080/"
        },
        "id": "AkZIxDbR_zbW",
        "outputId": "49b729f9-ef03-4397-a431-942014c6370f"
      },
      "execution_count": 9,
      "outputs": [
        {
          "output_type": "execute_result",
          "data": {
            "text/plain": [
              "0    9200\n",
              "1    2300\n",
              "Name: y, dtype: int64"
            ]
          },
          "metadata": {},
          "execution_count": 9
        }
      ]
    },
    {
      "cell_type": "markdown",
      "source": [
        "## Baseline"
      ],
      "metadata": {
        "id": "pLpf2GVkQ8oW"
      }
    },
    {
      "cell_type": "code",
      "source": [
        "X_train, X_test, y_train, y_test = train_test_split(X, y, test_size=0.2, stratify=y, random_state=12345)"
      ],
      "metadata": {
        "id": "WyHjvKxm7zmN"
      },
      "execution_count": 10,
      "outputs": []
    },
    {
      "cell_type": "code",
      "source": [
        "model = CatBoostClassifier(verbose=False)\n",
        "model.fit(X_train, y_train)\n",
        "pred = model.predict(X_test)\n",
        "print(\"Confusion Matrix:\\n\",confusion_matrix(y_test,pred))\n",
        "print(\"Classification Report:\\n\",classification_report(y_test,pred))"
      ],
      "metadata": {
        "id": "6TnnEULccC2x",
        "colab": {
          "base_uri": "https://localhost:8080/"
        },
        "outputId": "14463e12-d14b-4c03-ff5a-8813b6cac54a"
      },
      "execution_count": 11,
      "outputs": [
        {
          "output_type": "stream",
          "name": "stdout",
          "text": [
            "Confusion Matrix:\n",
            " [[1823   17]\n",
            " [  40  420]]\n",
            "Classification Report:\n",
            "               precision    recall  f1-score   support\n",
            "\n",
            "           0       0.98      0.99      0.98      1840\n",
            "           1       0.96      0.91      0.94       460\n",
            "\n",
            "    accuracy                           0.98      2300\n",
            "   macro avg       0.97      0.95      0.96      2300\n",
            "weighted avg       0.98      0.98      0.97      2300\n",
            "\n"
          ]
        }
      ]
    },
    {
      "cell_type": "markdown",
      "source": [
        "Неплохие результаты. Теперь попробую применить преобразование Фурье."
      ],
      "metadata": {
        "id": "lsV9yyFoRFy5"
      }
    },
    {
      "cell_type": "markdown",
      "source": [
        "## Использование преобразования Фурье"
      ],
      "metadata": {
        "id": "tc4XV2oDSC7N"
      }
    },
    {
      "cell_type": "code",
      "source": [
        "N = 178 # длина сигнала\n",
        "t_n = 1 # длина нашего сигнала в секундах\n",
        "T = t_n / N # период сигнала"
      ],
      "metadata": {
        "id": "wo9IsTZXb9Lc"
      },
      "execution_count": 12,
      "outputs": []
    },
    {
      "cell_type": "code",
      "source": [
        "def get_fft_values(y_values, T, N):  \n",
        "    # \n",
        "    f_values = np.linspace(0.0, 1.0/(2.0*T), N//2)\n",
        "    fft_values_ = fft(y_values)\n",
        "    fft_values = 2.0/N * np.abs(fft_values_[0:N//2])\n",
        "    return f_values, fft_values"
      ],
      "metadata": {
        "id": "2SajFCegh4c7"
      },
      "execution_count": 13,
      "outputs": []
    },
    {
      "cell_type": "code",
      "source": [
        "f_values, fft_values = get_fft_values(X.T, T, N)"
      ],
      "metadata": {
        "id": "fZwFkQa5gJ_k"
      },
      "execution_count": 14,
      "outputs": []
    },
    {
      "cell_type": "code",
      "source": [
        "X_f = fft_values.T\n",
        "X_f.shape"
      ],
      "metadata": {
        "id": "jxQiQE-fJwn3",
        "colab": {
          "base_uri": "https://localhost:8080/"
        },
        "outputId": "26d8293b-a289-4891-ea20-b2b500a97e38"
      },
      "execution_count": 15,
      "outputs": [
        {
          "output_type": "execute_result",
          "data": {
            "text/plain": [
              "(11500, 89)"
            ]
          },
          "metadata": {},
          "execution_count": 15
        }
      ]
    },
    {
      "cell_type": "code",
      "source": [
        "X_train, X_test, y_train, y_test = train_test_split(X_f, y, test_size=0.2, stratify=y, random_state=12345)"
      ],
      "metadata": {
        "id": "UBFq-KSAKFpV"
      },
      "execution_count": 16,
      "outputs": []
    },
    {
      "cell_type": "code",
      "source": [
        "model = CatBoostClassifier(verbose=False)\n",
        "model.fit(X_train, y_train)\n",
        "pred = model.predict(X_test)\n",
        "print(\"Confusion Matrix:\\n\",confusion_matrix(y_test,pred))\n",
        "print(\"Classification Report:\\n\",classification_report(y_test,pred))"
      ],
      "metadata": {
        "id": "25bWgK_gKFpW",
        "colab": {
          "base_uri": "https://localhost:8080/"
        },
        "outputId": "0a3d1d06-c387-48c4-8f48-c499dc8aed00"
      },
      "execution_count": 17,
      "outputs": [
        {
          "output_type": "stream",
          "name": "stdout",
          "text": [
            "Confusion Matrix:\n",
            " [[1751   89]\n",
            " [ 442   18]]\n",
            "Classification Report:\n",
            "               precision    recall  f1-score   support\n",
            "\n",
            "           0       0.80      0.95      0.87      1840\n",
            "           1       0.17      0.04      0.06       460\n",
            "\n",
            "    accuracy                           0.77      2300\n",
            "   macro avg       0.48      0.50      0.47      2300\n",
            "weighted avg       0.67      0.77      0.71      2300\n",
            "\n"
          ]
        }
      ]
    },
    {
      "cell_type": "markdown",
      "source": [
        "Прогноз значительно ухудшился."
      ],
      "metadata": {
        "id": "Akh7MSj8UdrW"
      }
    },
    {
      "cell_type": "markdown",
      "source": [
        "## Wavelet преобразование"
      ],
      "metadata": {
        "id": "xwfO0Y6WUjuq"
      }
    },
    {
      "cell_type": "code",
      "source": [
        "def calculate_entropy(list_values):\n",
        "    counter_values = Counter(list_values).most_common()\n",
        "    probabilities = [elem[1]/len(list_values) for elem in counter_values]\n",
        "    entropy=scipy.stats.entropy(probabilities)\n",
        "    return entropy\n",
        "\n",
        "def calculate_statistics(list_values):\n",
        "    n5 = np.nanpercentile(list_values, 5)\n",
        "    n25 = np.nanpercentile(list_values, 25)\n",
        "    n75 = np.nanpercentile(list_values, 75)\n",
        "    n95 = np.nanpercentile(list_values, 95)\n",
        "    median = np.nanpercentile(list_values, 50)\n",
        "    mean = np.nanmean(list_values)\n",
        "    std = np.nanstd(list_values)\n",
        "    var = np.nanvar(list_values)\n",
        "    rms = np.nanmean(np.sqrt(list_values**2))\n",
        "    return [n5, n25, n75, n95, median, mean, std, var, rms]\n",
        "\n",
        "def calculate_crossings(list_values):\n",
        "    zero_crossing_indices = np.nonzero(np.diff(np.array(list_values) > 0))[0]\n",
        "    no_zero_crossings = len(zero_crossing_indices)\n",
        "    mean_crossing_indices = np.nonzero(\n",
        "        np.diff(np.array(list_values) > np.nanmean(list_values)))[0]\n",
        "    no_mean_crossings = len(mean_crossing_indices)\n",
        "    return [no_zero_crossings, no_mean_crossings]\n",
        "\n",
        "def get_features(list_values):\n",
        "    entropy = calculate_entropy(list_values)\n",
        "    crossings = calculate_crossings(list_values)\n",
        "    statistics = calculate_statistics(list_values)\n",
        "    return [entropy] + crossings + statistics\n",
        "\n",
        "def get_uci_har_features(dataset, labels, waveletname):\n",
        "    uci_har_features = []\n",
        "    for signal_no in tqdm(range(0, len(dataset)), leave=False):\n",
        "        features = []\n",
        "        \n",
        "        signal = dataset[signal_no]\n",
        "        \n",
        "        list_coeff = pywt.wavedec(signal, waveletname)\n",
        "        for coeff in list_coeff:\n",
        "                features += get_features(coeff)\n",
        "        uci_har_features.append(features)\n",
        "    X = np.array(uci_har_features)\n",
        "    Y = np.array(labels)\n",
        "    return X, Y"
      ],
      "metadata": {
        "id": "mYVHd5GxJQP0"
      },
      "execution_count": 18,
      "outputs": []
    },
    {
      "cell_type": "code",
      "source": [
        "waveletname = 'rbio3.1'\n",
        "\n",
        "X_train, X_test, y_train, y_test = train_test_split(X, y, test_size=0.2, stratify=y, random_state=12345)\n",
        "X_train = [X_train.iloc[i] for i in range(len(X_train))]\n",
        "X_test = [X_test.iloc[i] for i in range(len(X_test))]\n",
        "\n",
        "X_train, Y_train = get_uci_har_features(X_train, y_train, waveletname)\n",
        "X_test, Y_test = get_uci_har_features(X_test, y_test, waveletname)"
      ],
      "metadata": {
        "id": "6it9Urm_cvYc",
        "colab": {
          "base_uri": "https://localhost:8080/"
        },
        "outputId": "6ea226e2-790d-4bcc-85a6-96d43fa2ece9"
      },
      "execution_count": 19,
      "outputs": [
        {
          "output_type": "stream",
          "name": "stderr",
          "text": []
        }
      ]
    },
    {
      "cell_type": "code",
      "source": [
        "model = CatBoostClassifier(verbose=False)\n",
        "model.fit(X_train, y_train)\n",
        "pred = model.predict(X_test)\n",
        "print(\"Confusion Matrix:\\n\",confusion_matrix(y_test,pred))\n",
        "print(\"Classification Report:\\n\",classification_report(y_test,pred))"
      ],
      "metadata": {
        "colab": {
          "base_uri": "https://localhost:8080/"
        },
        "id": "ECRJKMuXLegz",
        "outputId": "41cbab39-7134-4f5b-ef85-45d4e470de76"
      },
      "execution_count": 20,
      "outputs": [
        {
          "output_type": "stream",
          "name": "stdout",
          "text": [
            "Confusion Matrix:\n",
            " [[1826   14]\n",
            " [  14  446]]\n",
            "Classification Report:\n",
            "               precision    recall  f1-score   support\n",
            "\n",
            "           0       0.99      0.99      0.99      1840\n",
            "           1       0.97      0.97      0.97       460\n",
            "\n",
            "    accuracy                           0.99      2300\n",
            "   macro avg       0.98      0.98      0.98      2300\n",
            "weighted avg       0.99      0.99      0.99      2300\n",
            "\n"
          ]
        }
      ]
    },
    {
      "cell_type": "markdown",
      "source": [
        "Результат значительно улучшился по сравнению с преобразованием Фурье и показал лучшие результаты, чем в baseline."
      ],
      "metadata": {
        "id": "_B2OAuvxVXI-"
      }
    },
    {
      "cell_type": "markdown",
      "source": [
        "## TSFEL"
      ],
      "metadata": {
        "id": "APC6iKlkV-F-"
      }
    },
    {
      "cell_type": "code",
      "source": [
        "X_train, X_test, y_train, y_test = train_test_split(X, y, test_size=0.2, stratify=y, random_state=12345)"
      ],
      "metadata": {
        "id": "nwcXnTwPWKUk"
      },
      "execution_count": 21,
      "outputs": []
    },
    {
      "cell_type": "code",
      "source": [
        "# Highly correlated features are removed\n",
        "corr_features = tsfel.correlated_features(X_train)\n",
        "X_train.drop(corr_features, axis=1, inplace=True)\n",
        "X_test.drop(corr_features, axis=1, inplace=True)\n",
        "\n",
        "# Remove low variance features\n",
        "selector = VarianceThreshold()\n",
        "X_train = selector.fit_transform(X_train)\n",
        "X_test = selector.transform(X_test)"
      ],
      "metadata": {
        "id": "O1lK3r8XWNDA"
      },
      "execution_count": 22,
      "outputs": []
    },
    {
      "cell_type": "code",
      "source": [
        "X_train.shape, X_test.shape"
      ],
      "metadata": {
        "id": "aHmxMsxg3EGA",
        "colab": {
          "base_uri": "https://localhost:8080/"
        },
        "outputId": "33a75027-6c56-4909-bfcf-7164df8cb128"
      },
      "execution_count": 23,
      "outputs": [
        {
          "output_type": "execute_result",
          "data": {
            "text/plain": [
              "((9200, 175), (2300, 175))"
            ]
          },
          "metadata": {},
          "execution_count": 23
        }
      ]
    },
    {
      "cell_type": "code",
      "source": [
        "cfg_file = tsfel.get_features_by_domain('temporal')"
      ],
      "metadata": {
        "id": "4fEB8A9bWXda"
      },
      "execution_count": 24,
      "outputs": []
    },
    {
      "cell_type": "code",
      "source": [
        "model = CatBoostClassifier(verbose=False)\n",
        "model.fit(X_train, y_train)\n",
        "pred = model.predict(X_test)\n",
        "print(\"Confusion Matrix:\\n\",confusion_matrix(y_test,pred))\n",
        "print(\"Classification Report:\\n\",classification_report(y_test,pred))"
      ],
      "metadata": {
        "colab": {
          "base_uri": "https://localhost:8080/"
        },
        "id": "7aLiaRDCWf78",
        "outputId": "269c0781-4253-439a-c311-f3f9e981a805"
      },
      "execution_count": 25,
      "outputs": [
        {
          "output_type": "stream",
          "name": "stdout",
          "text": [
            "Confusion Matrix:\n",
            " [[1825   15]\n",
            " [  40  420]]\n",
            "Classification Report:\n",
            "               precision    recall  f1-score   support\n",
            "\n",
            "           0       0.98      0.99      0.99      1840\n",
            "           1       0.97      0.91      0.94       460\n",
            "\n",
            "    accuracy                           0.98      2300\n",
            "   macro avg       0.97      0.95      0.96      2300\n",
            "weighted avg       0.98      0.98      0.98      2300\n",
            "\n"
          ]
        }
      ]
    },
    {
      "cell_type": "markdown",
      "source": [
        "## Вывод\n",
        "Результат немного улучшился по сравнению с Baseline. Но лучшие результаты показала модель с признаками, полученными после вельвет преобразования."
      ],
      "metadata": {
        "id": "E_F-4Fc_XHl9"
      }
    }
  ]
}